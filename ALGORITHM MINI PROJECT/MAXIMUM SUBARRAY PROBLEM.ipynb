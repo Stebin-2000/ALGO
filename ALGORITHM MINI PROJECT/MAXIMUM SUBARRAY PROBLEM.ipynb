{
 "cells": [
  {
   "cell_type": "code",
   "execution_count": 2,
   "id": "474e0df9",
   "metadata": {},
   "outputs": [
    {
     "name": "stdout",
     "output_type": "stream",
     "text": [
      "7\n"
     ]
    }
   ],
   "source": [
    "import sys\n",
    "\n",
    "def maxCrossingSum(arr, l ,mid,r):\n",
    "\n",
    "    sum =0\n",
    "    left_sum = -sys.maxsize\n",
    "    for i in range(mid,l-1,-1):\n",
    "        sum = sum + arr[i]\n",
    "        if sum>left_sum:\n",
    "            left_sum = sum\n",
    "\n",
    "    sum = 0\n",
    "    right_sum = - sys.maxsize\n",
    "    for i in range(mid+1,r+1):\n",
    "        sum = sum + arr[i]\n",
    "        if sum>right_sum:\n",
    "            right_sum = sum\n",
    "\n",
    "    return max(left_sum+right_sum,left_sum,right_sum)\n",
    "\n",
    "def maxSumSubarray(arr,l,r):\n",
    "    if l==r:\n",
    "        return arr[l]\n",
    "    mid = (l+r)//2\n",
    "    return max(maxSumSubarray(arr,l,mid),maxSumSubarray(arr,mid+1,r),maxCrossingSum(arr,l,mid,r))\n",
    "\n",
    "if __name__ == \"__main__\":\n",
    "    arr = [-2,-3,4,-1,-2,1,5,-3]\n",
    "    N = len(arr)-1\n",
    "    maxsum = maxSumSubarray(arr,0,N)\n",
    "    print(maxsum)"
   ]
  },
  {
   "cell_type": "code",
   "execution_count": null,
   "id": "9019f7ca",
   "metadata": {},
   "outputs": [],
   "source": []
  }
 ],
 "metadata": {
  "kernelspec": {
   "display_name": "Python 3 (ipykernel)",
   "language": "python",
   "name": "python3"
  },
  "language_info": {
   "codemirror_mode": {
    "name": "ipython",
    "version": 3
   },
   "file_extension": ".py",
   "mimetype": "text/x-python",
   "name": "python",
   "nbconvert_exporter": "python",
   "pygments_lexer": "ipython3",
   "version": "3.10.0"
  }
 },
 "nbformat": 4,
 "nbformat_minor": 5
}
