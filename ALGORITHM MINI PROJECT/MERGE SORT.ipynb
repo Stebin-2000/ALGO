{
 "cells": [
  {
   "cell_type": "code",
   "execution_count": 1,
   "id": "fc6f8fc1",
   "metadata": {},
   "outputs": [
    {
     "name": "stdout",
     "output_type": "stream",
     "text": [
      "[1, 2, 3, 4, 5, 6, 7, 8] "
     ]
    }
   ],
   "source": [
    "def MergeSort(arr):\n",
    "    if len(arr)>1:\n",
    "        mid = len(arr)//2\n",
    "\n",
    "        left_arr = arr[:mid]\n",
    "        right_arr = arr[mid:]\n",
    "\n",
    "        MergeSort(left_arr)\n",
    "        MergeSort(right_arr)\n",
    "\n",
    "        i=j=k=0\n",
    "        l=len(left_arr)\n",
    "        r=len(right_arr)\n",
    "\n",
    "        while i<l and j<r :\n",
    "            if left_arr[i]<right_arr[j] :\n",
    "                arr[k] = left_arr[i]\n",
    "                i+=1\n",
    "            else:\n",
    "                arr[k] = right_arr[j]\n",
    "                j += 1\n",
    "            k+=1\n",
    "\n",
    "        while i<l:\n",
    "            arr[k]=left_arr[i]\n",
    "            i+=1\n",
    "            k+=1\n",
    "\n",
    "        while j<r:\n",
    "            arr[k]=right_arr[j]\n",
    "            j+=1\n",
    "            k+=1\n",
    "\n",
    "\n",
    "\n",
    "if __name__ == \"__main__\":\n",
    "    arr = [5,8,2,4,7,3,6,1]\n",
    "    MergeSort(arr)\n",
    "    print(arr,end=\" \")"
   ]
  },
  {
   "cell_type": "code",
   "execution_count": null,
   "id": "9f7535da",
   "metadata": {},
   "outputs": [],
   "source": []
  }
 ],
 "metadata": {
  "kernelspec": {
   "display_name": "Python 3 (ipykernel)",
   "language": "python",
   "name": "python3"
  },
  "language_info": {
   "codemirror_mode": {
    "name": "ipython",
    "version": 3
   },
   "file_extension": ".py",
   "mimetype": "text/x-python",
   "name": "python",
   "nbconvert_exporter": "python",
   "pygments_lexer": "ipython3",
   "version": "3.10.0"
  }
 },
 "nbformat": 4,
 "nbformat_minor": 5
}
